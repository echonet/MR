{
 "cells": [
  {
   "cell_type": "code",
   "execution_count": 1,
   "metadata": {},
   "outputs": [
    {
     "name": "stderr",
     "output_type": "stream",
     "text": [
      "/opt/conda/lib/python3.8/site-packages/apex/pyprof/__init__.py:5: FutureWarning: pyprof will be removed by the end of June, 2022\n",
      "  warnings.warn(\"pyprof will be removed by the end of June, 2022\", FutureWarning)\n"
     ]
    }
   ],
   "source": [
    "from utils import make_roc_curve, make_cm, sigmoid, bootstrap, get_stats\n",
    "from sklearn import metrics\n",
    "import pandas as pd\n",
    "manifest = pd.read_csv('/workspace/data/drives/sde/amey_mitral_regurg_weights/MR_manifest_nov21_resplit/data/test_predictions_lowest_loss.csv')\n",
    "cols = ['Control_preds','Mild_preds','Moderate_preds','Severe_preds']\n",
    "\n",
    "for i in cols:\n",
    "    manifest[i] = manifest[i].apply(sigmoid)\n",
    "\n",
    "manifest['predicted'] = manifest[cols].idxmax(axis = 1).astype(str).str.slice(stop = -6)\n",
    "\n",
    "manifest['severe_binary'] = (manifest['final_class'].isin(['Severe'])*1)\n",
    "manifest['severe_binary_pred'] = (manifest['predicted'].isin(['Severe'])*1)\n",
    "manifest['mod_severe_binary'] = (manifest['final_class'].isin(['Moderate','Severe'])*1)\n",
    "manifest['mod_severe_binary_pred'] = (manifest['predicted'].isin(['Moderate','Severe'])*1)\n",
    "manifest['control_mild_binary'] = (manifest['final_class'].isin(['Control','Mild'])*1)\n",
    "manifest['control_mild_binary_pred'] = (manifest['predicted'].isin(['Control','Mild'])*1)\n",
    "manifest['moderate_binary'] = (manifest['final_class'].isin(['Moderate'])*1)\n",
    "manifest['moderate_binary_pred'] = (manifest['predicted'].isin(['Moderate'])*1)\n",
    "\n",
    "manifest['not_severe_binary'] = (~manifest['final_class'].isin(['Severe'])*1)\n",
    "manifest['not_severe_binary_pred'] = (~manifest['predicted'].isin(['Severe'])*1)\n",
    "\n",
    "manifest['Mod_Severe_preds'] = manifest[['Moderate_preds','Severe_preds']].max(axis = 1, skipna = True)"
   ]
  },
  {
   "cell_type": "code",
   "execution_count": 2,
   "metadata": {},
   "outputs": [
    {
     "name": "stderr",
     "output_type": "stream",
     "text": [
      "100%|██████████| 10000/10000 [00:12<00:00, 813.85it/s]\n",
      "100%|██████████| 10000/10000 [00:11<00:00, 838.78it/s]\n"
     ]
    },
    {
     "name": "stdout",
     "output_type": "stream",
     "text": [
      "Severe MR Stats\n",
      "\n",
      "Severe MR AUC is 0.934 [0.913, 0.952]\n"
     ]
    },
    {
     "name": "stderr",
     "output_type": "stream",
     "text": [
      "100%|██████████| 10000/10000 [00:41<00:00, 241.94it/s]\n",
      "100%|██████████| 10000/10000 [00:41<00:00, 239.53it/s]\n"
     ]
    },
    {
     "name": "stdout",
     "output_type": "stream",
     "text": [
      "Severe PPV is 0.626 [0.532, 0.712]\n",
      "Severe NPV is 0.954 [0.939, 0.967]\n",
      "Severe Recall is 0.626 [0.534, 0.714]\n",
      "Severe F1-Score is 0.626 [0.546, 0.694]\n",
      "\n",
      "\n",
      "Moderate/Severe MR Stats \n",
      "\n",
      "Moderate/Severe MR AUC is 0.916 [0.899, 0.932]\n"
     ]
    },
    {
     "name": "stderr",
     "output_type": "stream",
     "text": [
      "100%|██████████| 10000/10000 [00:43<00:00, 230.51it/s]\n",
      "100%|██████████| 10000/10000 [00:42<00:00, 235.63it/s]"
     ]
    },
    {
     "name": "stdout",
     "output_type": "stream",
     "text": [
      "Moderate/Severe PPV is 0.805 [0.767, 0.842]\n",
      "Moderate/Severe NPV is 0.863 [0.836, 0.89]\n",
      "Moderate/Severe Recall is 0.807 [0.769, 0.844]\n",
      "Moderate/Severe F1-Score is 0.806 [0.776, 0.834]\n"
     ]
    },
    {
     "name": "stderr",
     "output_type": "stream",
     "text": [
      "\n"
     ]
    }
   ],
   "source": [
    "get_stats(manifest)"
   ]
  },
  {
   "cell_type": "code",
   "execution_count": null,
   "metadata": {},
   "outputs": [],
   "source": [
    "str(bootstrap((manifest.final_class == 'Severe') * 1, manifest.Severe_preds))"
   ]
  },
  {
   "cell_type": "code",
   "execution_count": null,
   "metadata": {},
   "outputs": [],
   "source": [
    "make_roc_curve(manifest)\n",
    "make_cm(manifest)"
   ]
  },
  {
   "cell_type": "code",
   "execution_count": null,
   "metadata": {},
   "outputs": [],
   "source": [
    "### Severe\n",
    "\n",
    "print('Severe PPV is ' + str(round(metrics.precision_score(manifest['severe_binary'], manifest['severe_binary_pred'],\n",
    "                       labels = ['Severe']),3)))\n",
    "\n",
    "print('Severe NPV is ' + str(round(metrics.precision_score(manifest['not_severe_binary'], manifest['not_severe_binary_pred'],\n",
    "                       labels = ['Severe']),3)))\n",
    "\n",
    "print('Severe Recall is ' + str(round(metrics.recall_score(manifest['severe_binary'], manifest['severe_binary_pred'],\n",
    "                       labels = ['Severe']),3)))\n",
    "\n",
    "print('Severe F1-Score is ' + str(round(metrics.f1_score(manifest['severe_binary'], manifest['severe_binary_pred'],\n",
    "                       labels = ['Severe']),3)) + '\\n')\n",
    "\n",
    "\n",
    "\n",
    "### Moderate/Severe\n",
    "\n",
    "print('Moderate/Severe PPV is ' + str(round(metrics.precision_score(manifest['mod_severe_binary'], manifest['mod_severe_binary_pred'],\n",
    "                       labels = ['Moderate/Severe']),3)))\n",
    "\n",
    "print('Moderate/Severe NPV is ' + str(round(metrics.precision_score(manifest['control_mild_binary'], manifest['control_mild_binary_pred'],\n",
    "                       labels = ['Moderate/Severe']),3)))\n",
    "\n",
    "print('Moderate/Severe Recall is ' + str(round(metrics.recall_score(manifest['mod_severe_binary'], manifest['mod_severe_binary_pred'],\n",
    "                       labels = ['Moderate/Severe']),3)))\n",
    "\n",
    "print('Moderate/Severe F1-Score is ' + str(round(metrics.f1_score(manifest['mod_severe_binary'], manifest['mod_severe_binary_pred'],\n",
    "                       labels = ['Moderate/Severe']),3)))"
   ]
  },
  {
   "cell_type": "code",
   "execution_count": null,
   "metadata": {},
   "outputs": [],
   "source": [
    "bootstrap((manifest.final_class == 'Severe') * 1, manifest.Severe_preds)"
   ]
  },
  {
   "cell_type": "code",
   "execution_count": null,
   "metadata": {},
   "outputs": [],
   "source": [
    "bootstrap(manifest.final_class.isin(['Moderate','Severe']) * 1,\n",
    " manifest[['Moderate_preds','Severe_preds']].max(axis = 1))"
   ]
  },
  {
   "cell_type": "code",
   "execution_count": null,
   "metadata": {},
   "outputs": [],
   "source": []
  }
 ],
 "metadata": {
  "kernelspec": {
   "display_name": "Python 3",
   "language": "python",
   "name": "python3"
  },
  "language_info": {
   "codemirror_mode": {
    "name": "ipython",
    "version": 3
   },
   "file_extension": ".py",
   "mimetype": "text/x-python",
   "name": "python",
   "nbconvert_exporter": "python",
   "pygments_lexer": "ipython3",
   "version": "3.8.13"
  },
  "orig_nbformat": 4
 },
 "nbformat": 4,
 "nbformat_minor": 2
}
